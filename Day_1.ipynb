{
  "nbformat": 4,
  "nbformat_minor": 0,
  "metadata": {
    "colab": {
      "name": "Day-1",
      "provenance": []
    },
    "kernelspec": {
      "name": "python3",
      "display_name": "Python 3"
    }
  },
  "cells": [
    {
      "cell_type": "code",
      "metadata": {
        "id": "TY98nnQPCo9a",
        "colab_type": "code",
        "outputId": "8ca8f15c-dfe2-4e9c-921e-590f131cf045",
        "colab": {
          "base_uri": "https://localhost:8080/",
          "height": 34
        }
      },
      "source": [
        "print(\"hello world\")"
      ],
      "execution_count": 0,
      "outputs": [
        {
          "output_type": "stream",
          "text": [
            "hello world\n"
          ],
          "name": "stdout"
        }
      ]
    },
    {
      "cell_type": "code",
      "metadata": {
        "id": "FBBnYIkVDQC4",
        "colab_type": "code",
        "outputId": "b09aa41e-5af4-4faf-8803-aa69df23814b",
        "colab": {
          "base_uri": "https://localhost:8080/",
          "height": 34
        }
      },
      "source": [
        "print(\"GItam\",end=\" \")\n",
        "print(\"gitam\",end=\"$\")\n",
        "print(\"jatin\")"
      ],
      "execution_count": 0,
      "outputs": [
        {
          "output_type": "stream",
          "text": [
            "GItam gitam$jatin\n"
          ],
          "name": "stdout"
        }
      ]
    },
    {
      "cell_type": "code",
      "metadata": {
        "id": "24FS_-YWFX4Q",
        "colab_type": "code",
        "outputId": "56e198a9-17e4-40eb-e865-a53402bdaafa",
        "colab": {
          "base_uri": "https://localhost:8080/",
          "height": 34
        }
      },
      "source": [
        "name=\"gitam\"\n",
        "address=\"hyd\"\n",
        "print(\"University name\",name,\"place\",address)"
      ],
      "execution_count": 0,
      "outputs": [
        {
          "output_type": "stream",
          "text": [
            "University name gitam place hyd\n"
          ],
          "name": "stdout"
        }
      ]
    },
    {
      "cell_type": "markdown",
      "metadata": {
        "id": "h1Fsozs5KWHV",
        "colab_type": "text"
      },
      "source": [
        "#input\n"
      ]
    },
    {
      "cell_type": "code",
      "metadata": {
        "id": "lr_gYDwCKX7v",
        "colab_type": "code",
        "outputId": "de8c1f44-e60e-43fb-fbb9-4db02744604f",
        "colab": {
          "base_uri": "https://localhost:8080/",
          "height": 50
        }
      },
      "source": [
        "input()"
      ],
      "execution_count": 0,
      "outputs": [
        {
          "output_type": "stream",
          "text": [
            "python\n"
          ],
          "name": "stdout"
        },
        {
          "output_type": "execute_result",
          "data": {
            "text/plain": [
              "'python'"
            ]
          },
          "metadata": {
            "tags": []
          },
          "execution_count": 9
        }
      ]
    },
    {
      "cell_type": "code",
      "metadata": {
        "id": "kBgs8bZtKbGF",
        "colab_type": "code",
        "outputId": "5b6f3d66-2c21-45d7-ecbd-035aebc1e533",
        "colab": {
          "base_uri": "https://localhost:8080/",
          "height": 50
        }
      },
      "source": [
        "input(9)\n"
      ],
      "execution_count": 0,
      "outputs": [
        {
          "output_type": "stream",
          "text": [
            "99\n"
          ],
          "name": "stdout"
        },
        {
          "output_type": "execute_result",
          "data": {
            "text/plain": [
              "'9'"
            ]
          },
          "metadata": {
            "tags": []
          },
          "execution_count": 10
        }
      ]
    },
    {
      "cell_type": "code",
      "metadata": {
        "id": "up3PcvU5KkTd",
        "colab_type": "code",
        "outputId": "b3666382-ad23-42c6-cb4d-39d19b01fabb",
        "colab": {
          "base_uri": "https://localhost:8080/",
          "height": 50
        }
      },
      "source": [
        "input(\"enter a number\")"
      ],
      "execution_count": 0,
      "outputs": [
        {
          "output_type": "stream",
          "text": [
            "enter a number89\n"
          ],
          "name": "stdout"
        },
        {
          "output_type": "execute_result",
          "data": {
            "text/plain": [
              "'89'"
            ]
          },
          "metadata": {
            "tags": []
          },
          "execution_count": 11
        }
      ]
    },
    {
      "cell_type": "code",
      "metadata": {
        "id": "J4rpgc6iKyCY",
        "colab_type": "code",
        "outputId": "508baa1c-9b1a-48e2-cb01-c84c3334f546",
        "colab": {
          "base_uri": "https://localhost:8080/",
          "height": 50
        }
      },
      "source": [
        "b=int(input())\n",
        "type(b)"
      ],
      "execution_count": 0,
      "outputs": [
        {
          "output_type": "stream",
          "text": [
            "58\n"
          ],
          "name": "stdout"
        },
        {
          "output_type": "execute_result",
          "data": {
            "text/plain": [
              "int"
            ]
          },
          "metadata": {
            "tags": []
          },
          "execution_count": 13
        }
      ]
    },
    {
      "cell_type": "markdown",
      "metadata": {
        "id": "wZA3tEW8NMsV",
        "colab_type": "text"
      },
      "source": [
        "# Fundamental types\n",
        "## 1.int\n",
        "## 2.float\n",
        "## 3.complex\n",
        "## 4.boolean\n",
        "## 5.string"
      ]
    },
    {
      "cell_type": "code",
      "metadata": {
        "id": "tVqypuR5N4k3",
        "colab_type": "code",
        "outputId": "aa6623d1-ad25-4aea-b042-96004d00dafb",
        "colab": {
          "base_uri": "https://localhost:8080/",
          "height": 34
        }
      },
      "source": [
        "x=10\n",
        "y=13.5\n",
        "z=3+2j\n",
        "print(type(x),type(y),type(z))"
      ],
      "execution_count": 0,
      "outputs": [
        {
          "output_type": "stream",
          "text": [
            "<class 'int'> <class 'float'> <class 'complex'>\n"
          ],
          "name": "stdout"
        }
      ]
    },
    {
      "cell_type": "code",
      "metadata": {
        "id": "EKRUT2rAOTpG",
        "colab_type": "code",
        "outputId": "10302478-2d0e-4dbb-c98a-9ab397927a99",
        "colab": {
          "base_uri": "https://localhost:8080/",
          "height": 50
        }
      },
      "source": [
        "print(x+y)\n",
        "y+z"
      ],
      "execution_count": 0,
      "outputs": [
        {
          "output_type": "stream",
          "text": [
            "23.5\n"
          ],
          "name": "stdout"
        },
        {
          "output_type": "execute_result",
          "data": {
            "text/plain": [
              "(16.5+2j)"
            ]
          },
          "metadata": {
            "tags": []
          },
          "execution_count": 16
        }
      ]
    },
    {
      "cell_type": "code",
      "metadata": {
        "id": "3Kr5Hot3OWMJ",
        "colab_type": "code",
        "outputId": "5d53cbf9-cac7-44b7-f1f5-cc3e6ff7471a",
        "colab": {
          "base_uri": "https://localhost:8080/",
          "height": 34
        }
      },
      "source": [
        "a=complex(y)\n",
        "a"
      ],
      "execution_count": 0,
      "outputs": [
        {
          "output_type": "execute_result",
          "data": {
            "text/plain": [
              "(13.5+0j)"
            ]
          },
          "metadata": {
            "tags": []
          },
          "execution_count": 17
        }
      ]
    },
    {
      "cell_type": "code",
      "metadata": {
        "id": "TXgZAY0gOfpZ",
        "colab_type": "code",
        "outputId": "1569eab4-b411-4057-e3ff-578d5957f455",
        "colab": {
          "base_uri": "https://localhost:8080/",
          "height": 34
        }
      },
      "source": [
        "c=complex(2,3)\n",
        "c"
      ],
      "execution_count": 0,
      "outputs": [
        {
          "output_type": "execute_result",
          "data": {
            "text/plain": [
              "(2+3j)"
            ]
          },
          "metadata": {
            "tags": []
          },
          "execution_count": 20
        }
      ]
    },
    {
      "cell_type": "code",
      "metadata": {
        "id": "n3XJGQIZO4lu",
        "colab_type": "code",
        "outputId": "8ca2e2ec-b2d0-4f00-952b-88caa53264fe",
        "colab": {
          "base_uri": "https://localhost:8080/",
          "height": 34
        }
      },
      "source": [
        "x =\"abc\"\n",
        "type(x)"
      ],
      "execution_count": 0,
      "outputs": [
        {
          "output_type": "execute_result",
          "data": {
            "text/plain": [
              "str"
            ]
          },
          "metadata": {
            "tags": []
          },
          "execution_count": 24
        }
      ]
    },
    {
      "cell_type": "code",
      "metadata": {
        "id": "441YCyKfQWpl",
        "colab_type": "code",
        "outputId": "80bd831d-1d25-44eb-cde6-62c2c3f012c6",
        "colab": {
          "base_uri": "https://localhost:8080/",
          "height": 50
        }
      },
      "source": [
        "i=100\n",
        "print(type(i))\n",
        "j=str(i)\n",
        "type(j)"
      ],
      "execution_count": 0,
      "outputs": [
        {
          "output_type": "stream",
          "text": [
            "<class 'int'>\n"
          ],
          "name": "stdout"
        },
        {
          "output_type": "execute_result",
          "data": {
            "text/plain": [
              "str"
            ]
          },
          "metadata": {
            "tags": []
          },
          "execution_count": 25
        }
      ]
    },
    {
      "cell_type": "markdown",
      "metadata": {
        "id": "pwL6pj3MTAwI",
        "colab_type": "text"
      },
      "source": [
        "# Operators\n",
        "## 1.Arthemetic operators :+ ,- ,* ,/ ,% ,// ,**\n",
        "## 2.logic operators:and,or,not\n",
        "## 3.relational operator:<,<=,>,>=,==,!=\n",
        "## 4.Membership operator:in & not in"
      ]
    },
    {
      "cell_type": "code",
      "metadata": {
        "id": "nyIhTUj9T9sf",
        "colab_type": "code",
        "outputId": "57670355-5ccf-4f77-bae5-70c16984a87b",
        "colab": {
          "base_uri": "https://localhost:8080/",
          "height": 134
        }
      },
      "source": [
        "x,y=6,5\n",
        "print(x+y)\n",
        "print(x-y)\n",
        "print(x*y)\n",
        "print(x/y)\n",
        "print(x%y)\n",
        "print(x//y) #floor of the ans divisoin\n",
        "print(x**y) #6 power 5"
      ],
      "execution_count": 0,
      "outputs": [
        {
          "output_type": "stream",
          "text": [
            "11\n",
            "1\n",
            "30\n",
            "1.2\n",
            "1\n",
            "1\n",
            "7776\n"
          ],
          "name": "stdout"
        }
      ]
    },
    {
      "cell_type": "code",
      "metadata": {
        "id": "wtdiVYzlVFzZ",
        "colab_type": "code",
        "outputId": "16845589-5f5f-4240-c8c6-07ede0472078",
        "colab": {
          "base_uri": "https://localhost:8080/",
          "height": 67
        }
      },
      "source": [
        "#logical operators\n",
        "a=23\n",
        "b=40\n",
        "print(b!=10 and b<=40)\n",
        "print(a>=10 and b<5)\n",
        "not a"
      ],
      "execution_count": 0,
      "outputs": [
        {
          "output_type": "stream",
          "text": [
            "True\n",
            "False\n"
          ],
          "name": "stdout"
        },
        {
          "output_type": "execute_result",
          "data": {
            "text/plain": [
              "False"
            ]
          },
          "metadata": {
            "tags": []
          },
          "execution_count": 33
        }
      ]
    },
    {
      "cell_type": "code",
      "metadata": {
        "id": "9JL1jrehV8Af",
        "colab_type": "code",
        "outputId": "a94e4617-80a5-4129-f893-931b6de6b2f1",
        "colab": {
          "base_uri": "https://localhost:8080/",
          "height": 118
        }
      },
      "source": [
        "#Relational operator:\n",
        "print(b>a)\n",
        "print(b<a)\n",
        "print(a<=b)\n",
        "print(a>=b)\n",
        "print(a!=b)\n",
        "a==b"
      ],
      "execution_count": 0,
      "outputs": [
        {
          "output_type": "stream",
          "text": [
            "True\n",
            "False\n",
            "True\n",
            "False\n",
            "True\n"
          ],
          "name": "stdout"
        },
        {
          "output_type": "execute_result",
          "data": {
            "text/plain": [
              "False"
            ]
          },
          "metadata": {
            "tags": []
          },
          "execution_count": 34
        }
      ]
    },
    {
      "cell_type": "code",
      "metadata": {
        "id": "j6DcdMQjZEpy",
        "colab_type": "code",
        "outputId": "a2d8d813-a971-409a-909d-e4a255a0c9f9",
        "colab": {
          "base_uri": "https://localhost:8080/",
          "height": 34
        }
      },
      "source": [
        "#Membership operator:\n",
        "str1=\"abc\"\n",
        "print(\"a\" not in str1)"
      ],
      "execution_count": 0,
      "outputs": [
        {
          "output_type": "stream",
          "text": [
            "False\n"
          ],
          "name": "stdout"
        }
      ]
    },
    {
      "cell_type": "markdown",
      "metadata": {
        "id": "7C6e-zygbBfj",
        "colab_type": "text"
      },
      "source": [
        "# Conditional statments\n",
        "## 1.if\n",
        "## 2.if else\n",
        "## 3.elif (switch)"
      ]
    },
    {
      "cell_type": "markdown",
      "metadata": {
        "id": "cc985ukwcIrw",
        "colab_type": "text"
      },
      "source": [
        "# checking even or od"
      ]
    },
    {
      "cell_type": "code",
      "metadata": {
        "id": "b0Q_XwCRc0i8",
        "colab_type": "code",
        "outputId": "966404f2-501c-45b4-85b7-33fb053f1f8e",
        "colab": {
          "base_uri": "https://localhost:8080/",
          "height": 50
        }
      },
      "source": [
        "n=int(input())\n",
        "if n%2!=0:\n",
        "  print(\"odd\")\n",
        "else:\n",
        "  print(\"Even\")"
      ],
      "execution_count": 0,
      "outputs": [
        {
          "output_type": "stream",
          "text": [
            "8\n",
            "Even\n"
          ],
          "name": "stdout"
        }
      ]
    },
    {
      "cell_type": "code",
      "metadata": {
        "id": "DlcKUJhgdWdH",
        "colab_type": "code",
        "outputId": "cdb1b3e5-fe2e-49ff-9abb-9532e0ae0485",
        "colab": {
          "base_uri": "https://localhost:8080/",
          "height": 50
        }
      },
      "source": [
        "n=int(input())\n",
        "if n%5==0 and n%3==0:\n",
        "  print(\"divisible\")\n",
        "else:\n",
        "  print(\"not diviible\")"
      ],
      "execution_count": 0,
      "outputs": [
        {
          "output_type": "stream",
          "text": [
            "23\n",
            "not diviible\n"
          ],
          "name": "stdout"
        }
      ]
    },
    {
      "cell_type": "code",
      "metadata": {
        "id": "IWh4B361fMKo",
        "colab_type": "code",
        "outputId": "5d5d6eaf-4ebe-4224-efe5-1a754b28bc09",
        "colab": {
          "base_uri": "https://localhost:8080/",
          "height": 50
        }
      },
      "source": [
        "n=int(input())\n",
        "if n>0:\n",
        "  print(\"positive\")\n",
        "elif n<0:\n",
        "  print(\"negative\")\n",
        "elif n==0:\n",
        "  print(\"zero\")"
      ],
      "execution_count": 0,
      "outputs": [
        {
          "output_type": "stream",
          "text": [
            "2\n",
            "positive\n"
          ],
          "name": "stdout"
        }
      ]
    },
    {
      "cell_type": "code",
      "metadata": {
        "id": "fPV4AphujyF6",
        "colab_type": "code",
        "outputId": "d9fa42c0-d958-4b58-9aab-03c3d38cff45",
        "colab": {
          "base_uri": "https://localhost:8080/",
          "height": 50
        }
      },
      "source": [
        "year=int(input())\n",
        "if year%400==0 or year%4==0 and year%100!=0:\n",
        "  print(\"leap year\")\n",
        "else:\n",
        "  print(\"not a leap year\")"
      ],
      "execution_count": 0,
      "outputs": [
        {
          "output_type": "stream",
          "text": [
            "2016\n",
            "leap year\n"
          ],
          "name": "stdout"
        }
      ]
    },
    {
      "cell_type": "code",
      "metadata": {
        "id": "opLeqn5llDJX",
        "colab_type": "code",
        "colab": {}
      },
      "source": [
        "\n"
      ],
      "execution_count": 0,
      "outputs": []
    }
  ]
}